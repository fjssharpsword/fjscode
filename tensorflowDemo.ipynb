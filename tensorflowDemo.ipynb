{
 "cells": [
  {
   "cell_type": "code",
   "execution_count": 11,
   "metadata": {
    "scrolled": true
   },
   "outputs": [
    {
     "name": "stdout",
     "output_type": "stream",
     "text": [
      "[[ 0  1  2  3  4]\n",
      " [ 5  6  7  8  9]\n",
      " [10 11 12 13 14]]\n",
      "[[  0   6  14  24  36]\n",
      " [100 121 144 169 196]\n",
      " [  0   6  14  24  36]\n",
      " [  0   6  14  24  36]\n",
      " [  0   6  14  24  36]]\n",
      "[ 80 730  80  80  80]\n",
      "(6, 5)\n"
     ]
    }
   ],
   "source": [
    "import numpy as np\n",
    "a = np.arange(15).reshape(3, 5)\n",
    "print (a)\n",
    "b = np.arange(15).reshape(3, 5)\n",
    "print (np.multiply(a[[0,2,1,1,1],:],b[[1,2,0,0,0],:]))\n",
    "print (np.sum(np.multiply(a[[0,2,1,1,1],:],b[[1,2,0,0,0],:]),axis=1))\n",
    "print (a[[0,2,1,1,1,2],:].shape)"
   ]
  },
  {
   "cell_type": "code",
   "execution_count": 23,
   "metadata": {},
   "outputs": [
    {
     "name": "stdout",
     "output_type": "stream",
     "text": [
      "[[ 1.  4.  9.]\n",
      " [16. 25. 36.]\n",
      " [49. 64. 81.]]\n",
      "[ 14.  77. 194.]\n"
     ]
    }
   ],
   "source": [
    "import theano\n",
    "import numpy as np\n",
    "import theano.tensor as T\n",
    "ones = theano.shared(np.float32([[1,2,3],[4,5,6],[7,8,9]]))\n",
    "\n",
    "#print(ones.get_value())\n",
    "#result = T.dot(ones,ones)\n",
    "result = T.mul(ones,ones)\n",
    "print (result.eval())\n",
    "result = T.sum(result,axis=1)\n",
    "print(result.eval())"
   ]
  },
  {
   "cell_type": "code",
   "execution_count": 5,
   "metadata": {},
   "outputs": [
    {
     "name": "stderr",
     "output_type": "stream",
     "text": [
      "W0727 04:01:33.990905 140054168667904 diagnostics.py:60] 1 of 2000 iterations ended with a divergence (0.05 %).\n",
      "W0727 04:01:33.993163 140054168667904 diagnostics.py:81] Try running with adapt_delta larger than 0.8 to remove the divergences.\n"
     ]
    },
    {
     "name": "stdout",
     "output_type": "stream",
     "text": [
      "Inference for Stan model: anon_model_19a09b474d1901f191444eaf8a6b8ce2.\n",
      "4 chains, each with iter=1000; warmup=500; thin=1; \n",
      "post-warmup draws per chain=500, total post-warmup draws=2000.\n",
      "\n",
      "           mean se_mean     sd   2.5%    25%    50%    75%  97.5%  n_eff   Rhat\n",
      "mu         7.96    0.14   5.14  -2.27   4.78   7.97  11.25  18.18   1286    1.0\n",
      "tau        6.61    0.17   5.47   0.34   2.45   5.38   9.14   20.8   1054    1.0\n",
      "eta[1]     0.37    0.02   0.93   -1.5  -0.24    0.4   0.99   2.18   2267    1.0\n",
      "eta[2]    -0.01    0.02   0.84   -1.7  -0.56  -0.02   0.53   1.66   2467    1.0\n",
      "eta[3]    -0.22    0.02   0.93  -2.06  -0.84  -0.22    0.4   1.61   1766    1.0\n",
      "eta[4]    -0.06    0.02   0.88  -1.74  -0.63  -0.08   0.51   1.68   2490    1.0\n",
      "eta[5]    -0.37    0.02   0.85  -2.12  -0.95  -0.37    0.2   1.31   1610    1.0\n",
      "eta[6]    -0.22    0.02    0.9  -1.94  -0.82  -0.24   0.37   1.55   2039    1.0\n",
      "eta[7]     0.38    0.02    0.9  -1.35  -0.23   0.38   0.97   2.14   2102    1.0\n",
      "eta[8]     0.07    0.02   0.95  -1.82  -0.56   0.05   0.71   1.87   2472    1.0\n",
      "theta[1]  11.27    0.19   7.94  -1.95   5.98  10.37  15.34  30.15   1716    1.0\n",
      "theta[2]   8.02    0.12   6.28  -4.35   3.92   7.98  11.98   20.7   2680    1.0\n",
      "theta[3]   5.98    0.19   7.99 -11.33   1.89   6.68  10.91  20.58   1841    1.0\n",
      "theta[4]   7.45    0.13   6.66  -5.96   3.41   7.48  11.65  20.76   2626    1.0\n",
      "theta[5]   5.11    0.14   6.55  -9.85   1.23   5.67   9.28  17.44   2177    1.0\n",
      "theta[6]   6.23    0.14   6.84  -8.12    1.9   6.66  10.64  18.96   2338    1.0\n",
      "theta[7]   10.9    0.16   6.62  -0.77   6.37  10.37  14.69   25.3   1701    1.0\n",
      "theta[8]   8.61    0.18    7.9  -7.52   3.85   8.28  12.91  25.79   1914    1.0\n",
      "lp__      -4.83     0.1   2.57  -10.5  -6.32  -4.62  -3.08  -0.49    727    1.0\n",
      "\n",
      "Samples were drawn using NUTS at Sat Jul 27 04:01:33 2019.\n",
      "For each parameter, n_eff is a crude measure of effective sample size,\n",
      "and Rhat is the potential scale reduction factor on split chains (at \n",
      "convergence, Rhat=1).\n"
     ]
    }
   ],
   "source": [
    "import pystan\n",
    "schools_code = \"\"\"\n",
    "data {\n",
    "    int<lower=0> J; // number of schools\n",
    "    vector[J] y; // estimated treatment effects\n",
    "    vector<lower=0>[J] sigma; // s.e. of effect estimates\n",
    "}\n",
    "parameters {\n",
    "    real mu;\n",
    "    real<lower=0> tau;\n",
    "    vector[J] eta;\n",
    "}\n",
    "transformed parameters {\n",
    "    vector[J] theta;\n",
    "    theta = mu + tau * eta;\n",
    "}\n",
    "model {\n",
    "    eta ~ normal(0, 1);\n",
    "    y ~ normal(theta, sigma);\n",
    "}\n",
    "\"\"\"\n",
    "\n",
    "schools_dat = {'J': 8,\n",
    "               'y': [28,  8, -3,  7, -1,  1, 18, 12],\n",
    "               'sigma': [15, 10, 16, 11,  9, 11, 10, 18]}\n",
    "\n",
    "sm = pystan.StanModel(model_code=schools_code)\n",
    "fit = sm.sampling(data=schools_dat, iter=1000, chains=4)\n",
    "\n",
    "la = fit.extract(permuted=True)  # return a dictionary of arrays\n",
    "mu = la['mu']\n",
    "## return an array of three dimensions: iterations, chains, parameters\n",
    "a = fit.extract(permuted=False)\n",
    "print(fit)"
   ]
  },
  {
   "cell_type": "code",
   "execution_count": 1,
   "metadata": {},
   "outputs": [
    {
     "name": "stderr",
     "output_type": "stream",
     "text": [
      "WARNING: Logging before flag parsing goes to stderr.\n",
      "W0727 03:48:16.508912 140054168667904 deprecation_wrapper.py:119] From /usr/local/lib/python3.6/dist-packages/edward/inferences/conjugacy/simplify.py:20: The name tf.log is deprecated. Please use tf.math.log instead.\n",
      "\n",
      "W0727 03:48:16.510132 140054168667904 deprecation_wrapper.py:119] From /usr/local/lib/python3.6/dist-packages/edward/inferences/conjugacy/simplify.py:24: The name tf.reciprocal is deprecated. Please use tf.math.reciprocal instead.\n",
      "\n",
      "W0727 03:48:16.808835 140054168667904 deprecation.py:323] From /usr/local/lib/python3.6/dist-packages/edward/models/random_variable.py:112: Normal.__init__ (from tensorflow.python.ops.distributions.normal) is deprecated and will be removed after 2019-01-01.\n",
      "Instructions for updating:\n",
      "The TensorFlow Distributions library has moved to TensorFlow Probability (https://github.com/tensorflow/probability). You should update all references to use `tfp.distributions` instead of `tf.distributions`.\n",
      "W0727 03:48:16.815080 140054168667904 deprecation.py:323] From /usr/local/lib/python3.6/dist-packages/tensorflow/python/ops/distributions/normal.py:160: Distribution.__init__ (from tensorflow.python.ops.distributions.distribution) is deprecated and will be removed after 2019-01-01.\n",
      "Instructions for updating:\n",
      "The TensorFlow Distributions library has moved to TensorFlow Probability (https://github.com/tensorflow/probability). You should update all references to use `tfp.distributions` instead of `tf.distributions`.\n",
      "W0727 03:48:16.837964 140054168667904 deprecation_wrapper.py:119] From /usr/local/lib/python3.6/dist-packages/edward/models/random_variable.py:138: The name tf.get_default_graph is deprecated. Please use tf.compat.v1.get_default_graph instead.\n",
      "\n",
      "W0727 03:48:16.865691 140054168667904 deprecation_wrapper.py:119] From /usr/local/lib/python3.6/dist-packages/edward/util/tensorflow.py:33: The name tf.verify_tensor_all_finite is deprecated. Please use tf.compat.v1.verify_tensor_all_finite instead.\n",
      "\n",
      "W0727 03:48:16.899207 140054168667904 deprecation.py:506] From /usr/local/lib/python3.6/dist-packages/tensorflow/python/ops/init_ops.py:1251: calling VarianceScaling.__init__ (from tensorflow.python.ops.init_ops) with dtype is deprecated and will be removed in a future version.\n",
      "Instructions for updating:\n",
      "Call initializer instance with the dtype argument instead of passing it to the constructor\n"
     ]
    }
   ],
   "source": [
    "import os\n",
    "os.environ['TF_C_API_GRAPH_CONSTRUCTION']='0'\n",
    "import numpy as np\n",
    "import edward as ed\n",
    "import tensorflow as tf\n",
    "import matplotlib.pyplot as plt\n",
    "from edward.models import Normal\n",
    "\n",
    "def build_toy_dataset(N, w):\n",
    "    D = len(w)\n",
    "    x = np.random.normal(0.0, 2.0, size=(N, D))\n",
    "    y = np.dot(x, w) + np.random.normal(0.0, 0.05, size=N)\n",
    "    return x, y\n",
    "\n",
    "N = 10000  # size of training data\n",
    "M = 128    # batch size during training\n",
    "D = 10     # number of features\n",
    "\n",
    "w_true = np.ones(D) * 5\n",
    "X_train, y_train = build_toy_dataset(N, w_true)\n",
    "X_test, y_test = build_toy_dataset(235, w_true)\n",
    "\n",
    "def generator(arrays, batch_size):\n",
    "    \"\"\"Generate batches, one with respect to each array's first axis.\"\"\"\n",
    "    starts = [0] * len(arrays)  # pointers to where we are in iteration\n",
    "    while True:\n",
    "        batches = []\n",
    "        for i, array in enumerate(arrays):\n",
    "            start = starts[i]\n",
    "            stop = start + batch_size\n",
    "            diff = stop - array.shape[0]\n",
    "            if diff <= 0:\n",
    "                batch = array[start:stop]\n",
    "                starts[i] += batch_size\n",
    "            else:\n",
    "                batch = np.concatenate((array[start:], array[:diff]))\n",
    "                starts[i] = diff\n",
    "        batches.append(batch)\n",
    "    yield batches\n",
    "\n",
    "data = generator([X_train, y_train], M)\n",
    "\n",
    "X = tf.placeholder(tf.float32, [None, D])\n",
    "y_ph = tf.placeholder(tf.float32, [None])\n",
    "\n",
    "w = Normal(loc=tf.zeros(D), scale=tf.ones(D))\n",
    "b = Normal(loc=tf.zeros(1), scale=tf.ones(1))\n",
    "y = Normal(loc=ed.dot(X, w) + b, scale=1.0)\n",
    "qw = Normal(loc=tf.get_variable(\"qw/loc\", [D]),\n",
    "            scale=tf.nn.softplus(tf.get_variable(\"qw/scale\", [D])))\n",
    "qb = Normal(loc=tf.get_variable(\"qb/loc\", [1]),\n",
    "            scale=tf.nn.softplus(tf.get_variable(\"qb/scale\", [1])))\n",
    "n_batch = int(N / M)\n",
    "n_epoch = 5\n",
    "\n",
    "inference = ed.KLqp({w: qw, b: qb}, data={y: y_ph})\n",
    "inference.initialize( n_iter=n_batch * n_epoch, n_samples=5, scale={y: N / M})\n",
    "tf.global_variables_initializer().run()\n",
    "\n",
    "for _ in range(inference.n_iter):\n",
    "    X_batch, y_batch = next(data)\n",
    "    info_dict = inference.update({X: X_batch, y_ph: y_batch})\n",
    "    inference.print_progress(info_dict)"
   ]
  },
  {
   "cell_type": "code",
   "execution_count": 13,
   "metadata": {},
   "outputs": [
    {
     "name": "stdout",
     "output_type": "stream",
     "text": [
      "[11 12 13 14 15 16 17 18 19 20 21 22 23 24 25 26 27 28]\n",
      "[12 12 12 20 20 20 19 19 19]\n"
     ]
    }
   ],
   "source": [
    "# coding=utf-8\n",
    "import numpy as np\n",
    "arr1 = np.arange(11,29)\n",
    "print (arr1) #输出 [0 1 2 3 4 5 6 7 8 9]\n",
    "arr2=arr1[[0,0,0,8,8,8,7,7,7]]\n",
    "print (arr2+1) #输出 [1 1 5 6 ]\n",
    "#arr2[0]=-1 #更改得到的新数组值不会影响原有数组\n",
    "#print (arr1) #输出 [0 1 2 3 4 5 6 7 8 9]"
   ]
  },
  {
   "cell_type": "code",
   "execution_count": 4,
   "metadata": {},
   "outputs": [
    {
     "name": "stdout",
     "output_type": "stream",
     "text": [
      "993280\n",
      "994000\n"
     ]
    }
   ],
   "source": [
    "print ((994169//1024)*1024)\n",
    "print ((994169//1000)*1000)"
   ]
  },
  {
   "cell_type": "code",
   "execution_count": 1,
   "metadata": {},
   "outputs": [
    {
     "name": "stdout",
     "output_type": "stream",
     "text": [
      "1.4433997\n",
      "0.007042788\n",
      "0.0053495653\n",
      "0.0048863823\n",
      "0.0046660653\n",
      "0.004541626\n",
      "0.0044415817\n",
      "0.004378759\n",
      "0.004337095\n",
      "0.004309917\n",
      "0.0042841975\n",
      "0.004253632\n",
      "0.0042149876\n",
      "0.0041711754\n",
      "0.0041211215\n",
      "0.004058876\n",
      "0.0040026526\n",
      "0.0039327946\n",
      "0.0038429797\n",
      "0.0037597588\n"
     ]
    }
   ],
   "source": [
    "import tensorflow as tf\n",
    "import numpy as np\n",
    "\n",
    "def add_layer(inputs, in_size, out_size, activation_function=None):\n",
    "    Weights = tf.Variable(tf.random_normal([in_size, out_size]))\n",
    "    biases = tf.Variable(tf.zeros([1, out_size]) + 0.1)\n",
    "    Wx_plus_b = tf.matmul(inputs, Weights) + biases\n",
    "    if activation_function is None:\n",
    "        outputs = Wx_plus_b\n",
    "    else:\n",
    "        outputs = activation_function(Wx_plus_b)\n",
    "    return outputs\n",
    "\n",
    "x_data = np.linspace(-1,1,300, dtype=np.float32)[:, np.newaxis]\n",
    "noise = np.random.normal(0, 0.05, x_data.shape).astype(np.float32)\n",
    "y_data = np.square(x_data) - 0.5 + noise\n",
    "\n",
    "xs = tf.placeholder(tf.float32, [None, 1])\n",
    "ys = tf.placeholder(tf.float32, [None, 1])\n",
    "\n",
    "l1 = add_layer(xs, 1, 10, activation_function=tf.nn.relu)\n",
    "prediction = add_layer(l1, 10, 1, activation_function=None)\n",
    "loss = tf.reduce_mean(tf.reduce_sum(tf.square(ys - prediction),reduction_indices=[1]))\n",
    "train_step = tf.train.GradientDescentOptimizer(0.1).minimize(loss)\n",
    "\n",
    "init = tf.global_variables_initializer() \n",
    "sess = tf.Session()\n",
    "sess.run(init)\n",
    "for i in range(1000):\n",
    "    # training\n",
    "    sess.run(train_step, feed_dict={xs: x_data, ys: y_data})\n",
    "    if i % 50 == 0:\n",
    "        # to see the step improvement\n",
    "        print(sess.run(loss, feed_dict={xs: x_data, ys: y_data}))"
   ]
  },
  {
   "cell_type": "code",
   "execution_count": 3,
   "metadata": {
    "scrolled": true
   },
   "outputs": [
    {
     "data": {
      "image/png": "[encoded data removed]",
      "text/plain": [
       "<Figure size 432x288 with 1 Axes>"
      ]
     },
     "metadata": {
      "needs_background": "light"
     },
     "output_type": "display_data"
    }
   ],
   "source": [
    "import matplotlib.pyplot as plt\n",
    "# plot the real data\n",
    "fig = plt.figure()\n",
    "ax = fig.add_subplot(1,1,1)\n",
    "ax.scatter(x_data, y_data)\n",
    "plt.ion()#本次运行请注释，全局运行不要注释\n",
    "plt.show()"
   ]
  },
  {
   "cell_type": "code",
   "execution_count": 6,
   "metadata": {},
   "outputs": [],
   "source": [
    "for i in range(1000):\n",
    "    # training\n",
    "    sess.run(train_step, feed_dict={xs: x_data, ys: y_data})\n",
    "    if i % 50 == 0:\n",
    "        # to visualize the result and improvement\n",
    "        try:\n",
    "            ax.lines.remove(lines[0])\n",
    "        except Exception:\n",
    "            pass\n",
    "        prediction_value = sess.run(prediction, feed_dict={xs: x_data})\n",
    "        # plot the prediction\n",
    "        lines = ax.plot(x_data, prediction_value, 'r-', lw=5)\n",
    "        plt.pause(0.1)\n",
    "        plt.show()"
   ]
  },
  {
   "cell_type": "code",
   "execution_count": 2,
   "metadata": {},
   "outputs": [
    {
     "name": "stdout",
     "output_type": "stream",
     "text": [
      "[[0 1]\n",
      " [2 3]\n",
      " [4 5]]\n",
      "[[0 1]\n",
      " [2 3]\n",
      " [4 5]]\n",
      "[[ 0  1]\n",
      " [ 4  9]\n",
      " [16 25]]\n",
      "[ 1 13 41]\n",
      "[[0 1]\n",
      " [4 5]]\n"
     ]
    }
   ],
   "source": [
    "import numpy as np\n",
    "x1 = np.arange(6).reshape((3, 2))\n",
    "print (x1)\n",
    "x2 = np.arange(6).reshape((3, 2))\n",
    "print (x2)\n",
    "x3 = np.multiply(x1, x2)\n",
    "print (x3)\n",
    "x4 = np.sum(x3,axis=1)\n",
    "print (x4)\n",
    "print (x1[[0,2],:])"
   ]
  },
  {
   "cell_type": "code",
   "execution_count": 5,
   "metadata": {},
   "outputs": [
    {
     "name": "stdout",
     "output_type": "stream",
     "text": [
      "[14.]\n"
     ]
    }
   ],
   "source": [
    "import tensorflow as tf\n",
    "\n",
    "#在 Tensorflow 中需要定义 placeholder 的 type ，一般为 float32 形式\n",
    "input1 = tf.placeholder(tf.float32)\n",
    "input2 = tf.placeholder(tf.float32)\n",
    "\n",
    "# mul = multiply 是将input1和input2 做乘法运算，并输出为 output \n",
    "ouput = tf.multiply(input1, input2)\n",
    "with tf.Session() as sess:\n",
    "    print(sess.run(ouput, feed_dict={input1: [7.], input2: [2.]}))"
   ]
  },
  {
   "cell_type": "code",
   "execution_count": 5,
   "metadata": {},
   "outputs": [
    {
     "name": "stdout",
     "output_type": "stream",
     "text": [
      "WARNING:tensorflow:From /usr/local/lib/python3.6/dist-packages/tensorflow/python/framework/op_def_library.py:263: colocate_with (from tensorflow.python.framework.ops) is deprecated and will be removed in a future version.\n",
      "Instructions for updating:\n",
      "Colocations handled automatically by placer.\n",
      "[[3.0904665]\n",
      " [1.2236414]\n",
      " [1.7270732]\n",
      " [2.2305048]]\n",
      "[[-0.8113182   1.4845988   0.06532937]\n",
      " [-2.4427042   0.0992484   0.5912243 ]]\n",
      "[[-0.8113182 ]\n",
      " [ 1.4845988 ]\n",
      " [ 0.06532937]]\n"
     ]
    }
   ],
   "source": [
    "import tensorflow as tf\n",
    "x = tf.placeholder(tf.float32, shape=(None, 2))\n",
    "w1 = tf.Variable(tf.random_normal([2,3],stddev=1,seed=1))\n",
    "w2 = tf.Variable(tf.random_normal([3,1],stddev=1,seed=1))\n",
    "\n",
    "a = tf.matmul(x,w1)\n",
    "y = tf.matmul(a,w2)\n",
    "\n",
    "with tf.Session() as sess:\n",
    "    init_op = tf.global_variables_initializer()\n",
    "    sess.run(init_op)\n",
    "    print(sess.run(y, feed_dict={x:[[0.7,0.5],[0.2,0.3],[0.3,0.4],[0.4,0.5]]}))\n",
    "    print(sess.run(w1))\n",
    "    print(sess.run(w2))"
   ]
  },
  {
   "cell_type": "code",
   "execution_count": 3,
   "metadata": {},
   "outputs": [
    {
     "name": "stdout",
     "output_type": "stream",
     "text": [
      "0 [-0.43409008] [0.8531586]\n",
      "20 [-0.07629433] [0.39781126]\n",
      "40 [0.05166814] [0.3268154]\n",
      "60 [0.08674961] [0.30735156]\n",
      "80 [0.09636736] [0.30201545]\n"
     ]
    }
   ],
   "source": [
    "import tensorflow as tf\n",
    "import numpy as np\n",
    "\n",
    "# create data\n",
    "x_data = np.random.rand(100).astype(np.float32)\n",
    "y_data = x_data*0.1 + 0.3\n",
    "# create model\n",
    "Weights = tf.Variable(tf.random_uniform([1], -1.0, 1.0))\n",
    "biases = tf.Variable(tf.zeros([1]))\n",
    "y = Weights*x_data + biases\n",
    "#loss function\n",
    "loss = tf.reduce_mean(tf.square(y-y_data))\n",
    "# optimizer\n",
    "optimizer = tf.train.GradientDescentOptimizer(0.5)\n",
    "train = optimizer.minimize(loss)\n",
    "#training\n",
    "with tf.Session() as sess:\n",
    "    sess.run( tf.global_variables_initializer())\n",
    "    for step in range(100):\n",
    "        sess.run(train)\n",
    "        if step % 20 == 0:\n",
    "            print(step, sess.run(Weights), sess.run(biases))"
   ]
  },
  {
   "cell_type": "code",
   "execution_count": 4,
   "metadata": {},
   "outputs": [
    {
     "name": "stdout",
     "output_type": "stream",
     "text": [
      "1\n",
      "2\n",
      "3\n"
     ]
    }
   ],
   "source": [
    "import tensorflow as tf\n",
    "\n",
    "state = tf.Variable(0, name='counter')\n",
    "# 定义常量 one\n",
    "one = tf.constant(1)\n",
    "# 定义加法步骤 (注: 此步并没有直接计算)\n",
    "new_value = tf.add(state, one)\n",
    "# 将 State 更新成 new_value\n",
    "update = tf.assign(state, new_value)\n",
    "# 如果定义 Variable, 就一定要 initialize\n",
    "init = tf.global_variables_initializer()  # 替换成这样就好\n",
    "# 使用 Session\n",
    "with tf.Session() as sess:\n",
    "    sess.run(init)\n",
    "    for _ in range(3):\n",
    "        sess.run(update)\n",
    "        print(sess.run(state))"
   ]
  }
 ],
 "metadata": {
  "kernelspec": {
   "display_name": "Python 3",
   "language": "python",
   "name": "python3"
  },
  "language_info": {
   "codemirror_mode": {
    "name": "ipython",
    "version": 3
   },
   "file_extension": ".py",
   "mimetype": "text/x-python",
   "name": "python",
   "nbconvert_exporter": "python",
   "pygments_lexer": "ipython3",
   "version": "3.6.6"
  }
 },
 "nbformat": 4,
 "nbformat_minor": 2
}
